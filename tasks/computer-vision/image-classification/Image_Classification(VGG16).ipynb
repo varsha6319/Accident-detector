{
  "nbformat": 4,
  "nbformat_minor": 0,
  "metadata": {
    "colab": {
      "name": "Image Classification(VGG16).ipynb",
      "version": "0.3.2",
      "provenance": [],
      "collapsed_sections": [],
      "include_colab_link": true
    },
    "kernelspec": {
      "name": "python3",
      "display_name": "Python 3"
    },
    "accelerator": "TPU"
  },
  "cells": [
    {
      "cell_type": "markdown",
      "metadata": {
        "id": "view-in-github",
        "colab_type": "text"
      },
      "source": [
        "<a href=\"https://colab.research.google.com/github/varsha6319/Accident-detector/blob/master/tasks/computer-vision/image-classification/Image_Classification(VGG16).ipynb\" target=\"_parent\"><img src=\"https://colab.research.google.com/assets/colab-badge.svg\" alt=\"Open In Colab\"/></a>"
      ]
    },
    {
      "cell_type": "code",
      "metadata": {
        "id": "7pDsnss4rYKI",
        "colab_type": "code",
        "outputId": "cf85ede5-85b9-4bc4-a453-e53af5d214de",
        "colab": {
          "base_uri": "https://localhost:8080/",
          "height": 35
        }
      },
      "source": [
        "import zipfile\n",
        "from google.colab import drive\n",
        "drive.mount('/content/drive/')"
      ],
      "execution_count": 71,
      "outputs": [
        {
          "output_type": "stream",
          "text": [
            "Drive already mounted at /content/drive/; to attempt to forcibly remount, call drive.mount(\"/content/drive/\", force_remount=True).\n"
          ],
          "name": "stdout"
        }
      ]
    },
    {
      "cell_type": "code",
      "metadata": {
        "id": "lZFWxX9DrYrg",
        "colab_type": "code",
        "colab": {}
      },
      "source": [
        "!pip install -U -q PyDrive\n",
        "import pandas as pd\n",
        "from pydrive.auth import GoogleAuth\n",
        "from pydrive.drive import GoogleDrive\n",
        "from google.colab import auth\n",
        "import mlflow\n",
        "from keras.preprocessing.image import img_to_array, array_to_img\n",
        "import numpy as np \n",
        "import os, time\n",
        "import matplotlib.pyplot as plt\n",
        "from sklearn.model_selection import train_test_split\n",
        "import keras\n",
        "from keras import models\n",
        "from keras.models import Model\n",
        "from keras import layers\n",
        "from keras import optimizers\n",
        "from keras import callbacks\n",
        "from keras.layers.advanced_activations import LeakyReLU\n",
        "from keras.utils import to_categorical\n",
        "from keras.models import Sequential\n",
        "from keras.layers import Conv2D, MaxPooling2D\n",
        "from keras.layers import Dense, Dropout, Flatten\n",
        "from keras.preprocessing.image import ImageDataGenerator\n",
        "from keras.applications import VGG16;\n",
        "from keras.applications.vgg16 import preprocess_input\n",
        "import os\n",
        "from sklearn.metrics import classification_report\n",
        "import pickle\n",
        "\n",
        "\n",
        "from oauth2client.client import GoogleCredentials# Authenticate and create the PyDrive client.\n",
        "auth.authenticate_user()\n",
        "gauth = GoogleAuth()\n",
        "gauth.credentials = GoogleCredentials.get_application_default()\n",
        "drive = GoogleDrive(gauth)"
      ],
      "execution_count": 0,
      "outputs": []
    },
    {
      "cell_type": "code",
      "metadata": {
        "id": "46nWG4t9PrK4",
        "colab_type": "code",
        "colab": {}
      },
      "source": [
        "#integrating mlflow\n",
        "import mlflow.keras\n",
        "mlflow.keras.autolog()"
      ],
      "execution_count": 0,
      "outputs": []
    },
    {
      "cell_type": "code",
      "metadata": {
        "id": "zCFGh1iprfwv",
        "colab_type": "code",
        "colab": {}
      },
      "source": [
        "link = 'https://drive.google.com/open?id=16yQzO4taugzRH3BIKmwvSDcR_lZlRS_N'\n",
        "fluff, id = link.split('=')\n",
        "print (id)\n",
        "\n",
        "\n",
        "downloaded = drive.CreateFile({'id':id}) \n",
        "downloaded.GetContentFile('train.csv') \n",
        "!unzip -q \"/content/drive/My Drive/train.zip\"\n",
        "df = pd.read_csv(\"train.csv\",encoding='utf-8')"
      ],
      "execution_count": 0,
      "outputs": []
    },
    {
      "cell_type": "code",
      "metadata": {
        "id": "qhfnVPWBrnIw",
        "colab_type": "code",
        "colab": {}
      },
      "source": [
        "link = 'https://drive.google.com/open?id=1_6KNs90tWw9vLRAWnhKzCxeFjxHaFoj8'\n",
        "fluff, id = link.split('=')\n",
        "print (id)\n",
        "downloaded = drive.CreateFile({'id':id}) \n",
        "downloaded.GetContentFile('test.csv') \n",
        "!unzip -q \"/content/drive/My Drive/test.zip\"\n",
        "df1 = pd.read_csv(\"test.csv\",encoding='utf-8')"
      ],
      "execution_count": 0,
      "outputs": []
    },
    {
      "cell_type": "code",
      "metadata": {
        "id": "z5owW4uUrrvN",
        "colab_type": "code",
        "outputId": "529f10d1-625a-4606-97b7-f4846267d5a5",
        "colab": {
          "base_uri": "https://localhost:8080/",
          "height": 53
        }
      },
      "source": [
        "print(df.shape)\n",
        "print(df1.shape)"
      ],
      "execution_count": 76,
      "outputs": [
        {
          "output_type": "stream",
          "text": [
            "(58161, 785)\n",
            "(10000, 785)\n"
          ],
          "name": "stdout"
        }
      ]
    },
    {
      "cell_type": "code",
      "metadata": {
        "id": "LzmBtRAmwAui",
        "colab_type": "code",
        "colab": {}
      },
      "source": [
        "df.shape \n",
        "df1.shape \n",
        "train_X= np.array(df.iloc[:,1:])\n",
        "test_X= np.array(df1.iloc[:,1:])\n",
        "train_Y= np.array (df.iloc[:,0]) \n",
        "test_Y = np.array(df1.iloc[:,0])"
      ],
      "execution_count": 0,
      "outputs": []
    },
    {
      "cell_type": "code",
      "metadata": {
        "id": "0XJlfutXwucc",
        "colab_type": "code",
        "outputId": "637141b5-7b1d-4878-c5ed-6d7a88bbf7d3",
        "colab": {
          "base_uri": "https://localhost:8080/",
          "height": 35
        }
      },
      "source": [
        "train_X.shape, test_X.shape"
      ],
      "execution_count": 78,
      "outputs": [
        {
          "output_type": "execute_result",
          "data": {
            "text/plain": [
              "((58161, 784), (10000, 784))"
            ]
          },
          "metadata": {
            "tags": []
          },
          "execution_count": 78
        }
      ]
    },
    {
      "cell_type": "code",
      "metadata": {
        "id": "3WufQUl8w39C",
        "colab_type": "code",
        "outputId": "38aff415-4fb8-46f7-819c-5e6a74093253",
        "colab": {
          "base_uri": "https://localhost:8080/",
          "height": 35
        }
      },
      "source": [
        "classes = np.unique(train_Y)\n",
        "num_classes = len(classes)\n",
        "num_classes"
      ],
      "execution_count": 79,
      "outputs": [
        {
          "output_type": "execute_result",
          "data": {
            "text/plain": [
              "10"
            ]
          },
          "metadata": {
            "tags": []
          },
          "execution_count": 79
        }
      ]
    },
    {
      "cell_type": "code",
      "metadata": {
        "id": "wMffkQESw5-t",
        "colab_type": "code",
        "outputId": "6707ea9a-04f5-4c97-faa8-d8ba861360dd",
        "colab": {
          "base_uri": "https://localhost:8080/",
          "height": 35
        }
      },
      "source": [
        "# Images are converted into 3 channels and reshape them\n",
        "train_X=np.dstack([train_X] * 3)\n",
        "test_X=np.dstack([test_X]*3)\n",
        "\n",
        "train_X = train_X.reshape(-1, 28,28,3)\n",
        "test_X= test_X.reshape (-1,28,28,3)\n",
        "train_X.shape,test_X.shape"
      ],
      "execution_count": 80,
      "outputs": [
        {
          "output_type": "execute_result",
          "data": {
            "text/plain": [
              "((58161, 28, 28, 3), (10000, 28, 28, 3))"
            ]
          },
          "metadata": {
            "tags": []
          },
          "execution_count": 80
        }
      ]
    },
    {
      "cell_type": "code",
      "metadata": {
        "id": "394jNyg7w-ST",
        "colab_type": "code",
        "colab": {}
      },
      "source": [
        "# Images are resized to 48*48 for VGG16 model\n",
        "train_X = np.asarray([img_to_array(array_to_img(im, scale=False).resize((48,48))) for im in train_X])\n",
        "test_X = np.asarray([img_to_array(array_to_img(im, scale=False).resize((48,48))) for im in test_X])\n"
      ],
      "execution_count": 0,
      "outputs": []
    },
    {
      "cell_type": "code",
      "metadata": {
        "id": "kjUmast3xADx",
        "colab_type": "code",
        "colab": {}
      },
      "source": [
        "# data normalization and data type is changed\n",
        "train_X = train_X / 255.\n",
        "test_X = test_X / 255.\n",
        "train_X = train_X.astype('float32')\n",
        "test_X = test_X.astype('float32')"
      ],
      "execution_count": 0,
      "outputs": []
    },
    {
      "cell_type": "code",
      "metadata": {
        "id": "896Q3i5nxHTp",
        "colab_type": "code",
        "colab": {}
      },
      "source": [
        "# Labels are converted to one hot encoded format, train data is split into train and validation data \n",
        "train_Y_one_hot = to_categorical(train_Y)\n",
        "test_Y_one_hot = to_categorical(test_Y)\n",
        "train_X,valid_X,train_label,valid_label = train_test_split(train_X,train_Y_one_hot,test_size=0.2,random_state=13)\n"
      ],
      "execution_count": 0,
      "outputs": []
    },
    {
      "cell_type": "code",
      "metadata": {
        "id": "L-wBYlxOxJIO",
        "colab_type": "code",
        "outputId": "13a52e51-2a98-4116-ae25-b2d715f6f55c",
        "colab": {
          "base_uri": "https://localhost:8080/",
          "height": 35
        }
      },
      "source": [
        "train_X.shape,valid_X.shape,train_label.shape,valid_label.shape"
      ],
      "execution_count": 84,
      "outputs": [
        {
          "output_type": "execute_result",
          "data": {
            "text/plain": [
              "((46528, 48, 48, 3), (11633, 48, 48, 3), (46528, 10), (11633, 10))"
            ]
          },
          "metadata": {
            "tags": []
          },
          "execution_count": 84
        }
      ]
    },
    {
      "cell_type": "code",
      "metadata": {
        "id": "c0PXCwuFxNhC",
        "colab_type": "code",
        "colab": {}
      },
      "source": [
        "#Paramters for VGG16 model\n",
        "Image_Width=48\n",
        "Image_Height=48\n",
        "Image_Depth=3\n",
        "Batch_Size=16"
      ],
      "execution_count": 0,
      "outputs": []
    },
    {
      "cell_type": "code",
      "metadata": {
        "id": "RQ2zYCb_xRN6",
        "colab_type": "code",
        "colab": {}
      },
      "source": [
        "# Input is preprocessed \n",
        "train_X = preprocess_input(train_X)\n",
        "valid_X = preprocess_input(valid_X)\n",
        "test_X  = preprocess_input (test_X)"
      ],
      "execution_count": 0,
      "outputs": []
    },
    {
      "cell_type": "code",
      "metadata": {
        "id": "bMmMW9d8xSut",
        "colab_type": "code",
        "outputId": "80e2d335-b2b3-477a-802c-2791cd2d0dd8",
        "colab": {
          "base_uri": "https://localhost:8080/",
          "height": 835
        }
      },
      "source": [
        "#  Create base model of VGG16\n",
        "conv_base = VGG16(weights='/content/drive/My Drive/vgg16_weights_tf_dim_ordering_tf_kernels_notop.h5',include_top=False,input_shape=(Image_Height, Image_Width, Image_Depth))\n",
        "conv_base.summary()"
      ],
      "execution_count": 87,
      "outputs": [
        {
          "output_type": "stream",
          "text": [
            "_________________________________________________________________\n",
            "Layer (type)                 Output Shape              Param #   \n",
            "=================================================================\n",
            "input_4 (InputLayer)         (None, 48, 48, 3)         0         \n",
            "_________________________________________________________________\n",
            "block1_conv1 (Conv2D)        (None, 48, 48, 64)        1792      \n",
            "_________________________________________________________________\n",
            "block1_conv2 (Conv2D)        (None, 48, 48, 64)        36928     \n",
            "_________________________________________________________________\n",
            "block1_pool (MaxPooling2D)   (None, 24, 24, 64)        0         \n",
            "_________________________________________________________________\n",
            "block2_conv1 (Conv2D)        (None, 24, 24, 128)       73856     \n",
            "_________________________________________________________________\n",
            "block2_conv2 (Conv2D)        (None, 24, 24, 128)       147584    \n",
            "_________________________________________________________________\n",
            "block2_pool (MaxPooling2D)   (None, 12, 12, 128)       0         \n",
            "_________________________________________________________________\n",
            "block3_conv1 (Conv2D)        (None, 12, 12, 256)       295168    \n",
            "_________________________________________________________________\n",
            "block3_conv2 (Conv2D)        (None, 12, 12, 256)       590080    \n",
            "_________________________________________________________________\n",
            "block3_conv3 (Conv2D)        (None, 12, 12, 256)       590080    \n",
            "_________________________________________________________________\n",
            "block3_pool (MaxPooling2D)   (None, 6, 6, 256)         0         \n",
            "_________________________________________________________________\n",
            "block4_conv1 (Conv2D)        (None, 6, 6, 512)         1180160   \n",
            "_________________________________________________________________\n",
            "block4_conv2 (Conv2D)        (None, 6, 6, 512)         2359808   \n",
            "_________________________________________________________________\n",
            "block4_conv3 (Conv2D)        (None, 6, 6, 512)         2359808   \n",
            "_________________________________________________________________\n",
            "block4_pool (MaxPooling2D)   (None, 3, 3, 512)         0         \n",
            "_________________________________________________________________\n",
            "block5_conv1 (Conv2D)        (None, 3, 3, 512)         2359808   \n",
            "_________________________________________________________________\n",
            "block5_conv2 (Conv2D)        (None, 3, 3, 512)         2359808   \n",
            "_________________________________________________________________\n",
            "block5_conv3 (Conv2D)        (None, 3, 3, 512)         2359808   \n",
            "_________________________________________________________________\n",
            "block5_pool (MaxPooling2D)   (None, 1, 1, 512)         0         \n",
            "=================================================================\n",
            "Total params: 14,714,688\n",
            "Trainable params: 14,714,688\n",
            "Non-trainable params: 0\n",
            "_________________________________________________________________\n"
          ],
          "name": "stdout"
        }
      ]
    },
    {
      "cell_type": "code",
      "metadata": {
        "id": "w9P9EsPlxUib",
        "colab_type": "code",
        "outputId": "35e38eb0-1b2c-46c1-c485-779731df8002",
        "colab": {
          "base_uri": "https://localhost:8080/",
          "height": 72
        }
      },
      "source": [
        "# Extracting features\n",
        "train_features = conv_base.predict(np.array(train_X), batch_size=Batch_Size, verbose=1)\n",
        "test_features = conv_base.predict(np.array(test_X), batch_size=Batch_Size, verbose=1)\n",
        "val_features = conv_base.predict(np.array(valid_X), batch_size=Batch_Size, verbose=1)"
      ],
      "execution_count": 88,
      "outputs": [
        {
          "output_type": "stream",
          "text": [
            "46528/46528 [==============================] - 1126s 24ms/step\n",
            "10000/10000 [==============================] - 241s 24ms/step\n",
            "11633/11633 [==============================] - 281s 24ms/step\n"
          ],
          "name": "stdout"
        }
      ]
    },
    {
      "cell_type": "code",
      "metadata": {
        "id": "CsVjdqulzAgS",
        "colab_type": "code",
        "colab": {}
      },
      "source": [
        "# Saving the features so that they can be used for future\n",
        "np.savez(\"train_features\", train_features, train_label)\n",
        "np.savez(\"test_features\", test_features, test_Y)\n",
        "np.savez(\"val_features\", val_features, valid_label)"
      ],
      "execution_count": 0,
      "outputs": []
    },
    {
      "cell_type": "code",
      "metadata": {
        "id": "Pco1N3f_5loZ",
        "colab_type": "code",
        "outputId": "4791ad6b-b858-404b-ce48-b29794b8a7e9",
        "colab": {
          "base_uri": "https://localhost:8080/",
          "height": 72
        }
      },
      "source": [
        "# Current shape of features\n",
        "print(train_features.shape, \"\\n\",  test_features.shape, \"\\n\", val_features.shape)"
      ],
      "execution_count": 90,
      "outputs": [
        {
          "output_type": "stream",
          "text": [
            "(46528, 1, 1, 512) \n",
            " (10000, 1, 1, 512) \n",
            " (11633, 1, 1, 512)\n"
          ],
          "name": "stdout"
        }
      ]
    },
    {
      "cell_type": "code",
      "metadata": {
        "id": "tIqK_pZk5r6l",
        "colab_type": "code",
        "colab": {}
      },
      "source": [
        "# Flatten extracted features\n",
        "train_features_flat = np.reshape(train_features, (46528, 1*1*512))\n",
        "test_features_flat = np.reshape(test_features, (10000, 1*1*512))\n",
        "val_features_flat = np.reshape(val_features, (11633, 1*1*512))"
      ],
      "execution_count": 0,
      "outputs": []
    },
    {
      "cell_type": "code",
      "metadata": {
        "id": "Ucqd93TZ57Aw",
        "colab_type": "code",
        "colab": {}
      },
      "source": [
        "# Densely connected classifier followed by leakyrelu layer and finally dense layer for the number of classes\n",
        "NB_TRAIN_SAMPLES = train_features_flat.shape[0]\n",
        "NB_VALIDATION_SAMPLES = val_features_flat.shape[0]\n",
        "NB_EPOCHS = 100\n",
        "\n",
        "model = models.Sequential()\n",
        "model.add(layers.Dense(512, activation='relu', input_dim=(1*1*512)))\n",
        "model.add(layers.LeakyReLU(alpha=0.1))\n",
        "model.add(layers.Dense(num_classes, activation='softmax'))"
      ],
      "execution_count": 0,
      "outputs": []
    },
    {
      "cell_type": "code",
      "metadata": {
        "id": "o3zqpZZ-59DT",
        "colab_type": "code",
        "colab": {}
      },
      "source": [
        "# Model Compilation\n",
        "model.compile(loss='categorical_crossentropy',optimizer=optimizers.Adam(), metrics=['acc'])"
      ],
      "execution_count": 0,
      "outputs": []
    },
    {
      "cell_type": "code",
      "metadata": {
        "id": "GS9FqqWi5_Iy",
        "colab_type": "code",
        "colab": {}
      },
      "source": [
        "# reduced learning and the early stopping for callback methos\n",
        "reduce_learning = callbacks.ReduceLROnPlateau(monitor='val_loss',factor=0.2,patience=2,verbose=1,mode='auto',epsilon=0.0001,cooldown=2,min_lr=0)\n",
        "\n",
        "eary_stopping = callbacks.EarlyStopping(monitor='val_loss',min_delta=0,patience=7,verbose=1,mode='auto')\n",
        "\n",
        "callbacks = [reduce_learning, eary_stopping]"
      ],
      "execution_count": 0,
      "outputs": []
    },
    {
      "cell_type": "code",
      "metadata": {
        "id": "_8sb92iB6DhD",
        "colab_type": "code",
        "outputId": "f78318b7-3bd5-4cac-c79e-d45b523703a0",
        "colab": {
          "base_uri": "https://localhost:8080/",
          "height": 1000
        }
      },
      "source": [
        "# Model Training\n",
        "history = model.fit(train_features_flat,train_label,epochs=NB_EPOCHS,validation_data=(val_features_flat, valid_label),callbacks=callbacks)"
      ],
      "execution_count": 95,
      "outputs": [
        {
          "output_type": "stream",
          "text": [
            "Train on 46528 samples, validate on 11633 samples\n",
            "Epoch 1/100\n",
            "46528/46528 [==============================] - 10s 225us/step - loss: 4.1666 - acc: 0.4288 - val_loss: 4.0469 - val_acc: 0.4680\n",
            "Epoch 2/100\n",
            "46528/46528 [==============================] - 10s 213us/step - loss: 3.9523 - acc: 0.5058 - val_loss: 3.9575 - val_acc: 0.4826\n",
            "Epoch 3/100\n",
            "46528/46528 [==============================] - 10s 212us/step - loss: 2.0813 - acc: 0.5668 - val_loss: 1.0486 - val_acc: 0.6094\n",
            "Epoch 4/100\n",
            "46528/46528 [==============================] - 10s 211us/step - loss: 0.9770 - acc: 0.6397 - val_loss: 0.9334 - val_acc: 0.6505\n",
            "Epoch 5/100\n",
            "46528/46528 [==============================] - 10s 216us/step - loss: 0.9262 - acc: 0.6600 - val_loss: 0.9089 - val_acc: 0.6609\n",
            "Epoch 6/100\n",
            "46528/46528 [==============================] - 10s 214us/step - loss: 0.8941 - acc: 0.6718 - val_loss: 0.9206 - val_acc: 0.6519\n",
            "Epoch 7/100\n",
            "46528/46528 [==============================] - 10s 214us/step - loss: 0.8720 - acc: 0.6797 - val_loss: 0.8690 - val_acc: 0.6798\n",
            "Epoch 8/100\n",
            "46528/46528 [==============================] - 10s 210us/step - loss: 0.8634 - acc: 0.6812 - val_loss: 0.8900 - val_acc: 0.6734\n",
            "Epoch 9/100\n",
            "46528/46528 [==============================] - 10s 206us/step - loss: 0.8414 - acc: 0.6915 - val_loss: 0.8651 - val_acc: 0.6879\n",
            "Epoch 10/100\n",
            "46528/46528 [==============================] - 10s 209us/step - loss: 0.8322 - acc: 0.6944 - val_loss: 0.8738 - val_acc: 0.6760\n",
            "Epoch 11/100\n",
            "46528/46528 [==============================] - 10s 207us/step - loss: 0.8256 - acc: 0.6968 - val_loss: 0.8118 - val_acc: 0.7070\n",
            "Epoch 12/100\n",
            "46528/46528 [==============================] - 9s 204us/step - loss: 0.8177 - acc: 0.6986 - val_loss: 0.8752 - val_acc: 0.6812\n",
            "Epoch 13/100\n",
            "46528/46528 [==============================] - 10s 211us/step - loss: 0.8028 - acc: 0.7042 - val_loss: 0.8184 - val_acc: 0.6962\n",
            "\n",
            "Epoch 00013: ReduceLROnPlateau reducing learning rate to 0.00020000000949949026.\n",
            "Epoch 14/100\n",
            "46528/46528 [==============================] - 11s 228us/step - loss: 0.7433 - acc: 0.7303 - val_loss: 0.7585 - val_acc: 0.7273\n",
            "Epoch 15/100\n",
            "46528/46528 [==============================] - 10s 212us/step - loss: 0.7398 - acc: 0.7319 - val_loss: 0.7533 - val_acc: 0.7316\n",
            "Epoch 16/100\n",
            "46528/46528 [==============================] - 10s 220us/step - loss: 0.7362 - acc: 0.7318 - val_loss: 0.7520 - val_acc: 0.7278\n",
            "Epoch 17/100\n",
            "46528/46528 [==============================] - 10s 214us/step - loss: 0.7335 - acc: 0.7325 - val_loss: 0.7662 - val_acc: 0.7216\n",
            "Epoch 18/100\n",
            "46528/46528 [==============================] - 10s 212us/step - loss: 0.7305 - acc: 0.7364 - val_loss: 0.7514 - val_acc: 0.7298\n",
            "Epoch 19/100\n",
            "46528/46528 [==============================] - 10s 222us/step - loss: 0.7285 - acc: 0.7346 - val_loss: 0.7407 - val_acc: 0.7323\n",
            "Epoch 20/100\n",
            "46528/46528 [==============================] - 11s 238us/step - loss: 0.7257 - acc: 0.7363 - val_loss: 0.7460 - val_acc: 0.7296\n",
            "Epoch 21/100\n",
            "46528/46528 [==============================] - 11s 232us/step - loss: 0.7230 - acc: 0.7374 - val_loss: 0.7512 - val_acc: 0.7304\n",
            "\n",
            "Epoch 00021: ReduceLROnPlateau reducing learning rate to 4.0000001899898055e-05.\n",
            "Epoch 22/100\n",
            "46528/46528 [==============================] - 10s 224us/step - loss: 0.7079 - acc: 0.7438 - val_loss: 0.7289 - val_acc: 0.7402\n",
            "Epoch 23/100\n",
            "46528/46528 [==============================] - 10s 214us/step - loss: 0.7066 - acc: 0.7446 - val_loss: 0.7298 - val_acc: 0.7400\n",
            "Epoch 24/100\n",
            "46528/46528 [==============================] - 10s 216us/step - loss: 0.7058 - acc: 0.7449 - val_loss: 0.7311 - val_acc: 0.7371\n",
            "\n",
            "Epoch 00024: ReduceLROnPlateau reducing learning rate to 8.000000525498762e-06.\n",
            "Epoch 25/100\n",
            "46528/46528 [==============================] - 10s 213us/step - loss: 0.7029 - acc: 0.7462 - val_loss: 0.7277 - val_acc: 0.7400\n",
            "Epoch 26/100\n",
            "46528/46528 [==============================] - 10s 217us/step - loss: 0.7024 - acc: 0.7465 - val_loss: 0.7267 - val_acc: 0.7395\n",
            "Epoch 27/100\n",
            "46528/46528 [==============================] - 10s 216us/step - loss: 0.7023 - acc: 0.7461 - val_loss: 0.7270 - val_acc: 0.7392\n",
            "Epoch 28/100\n",
            "46528/46528 [==============================] - 10s 214us/step - loss: 0.7021 - acc: 0.7465 - val_loss: 0.7265 - val_acc: 0.7401\n",
            "Epoch 29/100\n",
            "46528/46528 [==============================] - 10s 213us/step - loss: 0.7020 - acc: 0.7464 - val_loss: 0.7270 - val_acc: 0.7407\n",
            "Epoch 30/100\n",
            "46528/46528 [==============================] - 10s 217us/step - loss: 0.7017 - acc: 0.7461 - val_loss: 0.7263 - val_acc: 0.7412\n",
            "Epoch 31/100\n",
            "46528/46528 [==============================] - 10s 219us/step - loss: 0.7017 - acc: 0.7456 - val_loss: 0.7268 - val_acc: 0.7412\n",
            "Epoch 32/100\n",
            "46528/46528 [==============================] - 10s 221us/step - loss: 0.7016 - acc: 0.7468 - val_loss: 0.7266 - val_acc: 0.7401\n",
            "\n",
            "Epoch 00032: ReduceLROnPlateau reducing learning rate to 1.6000001778593287e-06.\n",
            "Epoch 33/100\n",
            "46528/46528 [==============================] - 10s 217us/step - loss: 0.7009 - acc: 0.7462 - val_loss: 0.7262 - val_acc: 0.7400\n",
            "Epoch 34/100\n",
            "46528/46528 [==============================] - 10s 220us/step - loss: 0.7008 - acc: 0.7463 - val_loss: 0.7261 - val_acc: 0.7406\n",
            "Epoch 35/100\n",
            "46528/46528 [==============================] - 10s 218us/step - loss: 0.7008 - acc: 0.7464 - val_loss: 0.7260 - val_acc: 0.7406\n",
            "Epoch 36/100\n",
            "46528/46528 [==============================] - 11s 235us/step - loss: 0.7007 - acc: 0.7468 - val_loss: 0.7261 - val_acc: 0.7400\n",
            "Epoch 37/100\n",
            "46528/46528 [==============================] - 10s 214us/step - loss: 0.7007 - acc: 0.7472 - val_loss: 0.7262 - val_acc: 0.7410\n",
            "\n",
            "Epoch 00037: ReduceLROnPlateau reducing learning rate to 3.200000264769187e-07.\n",
            "Epoch 38/100\n",
            "46528/46528 [==============================] - 10s 221us/step - loss: 0.7005 - acc: 0.7468 - val_loss: 0.7261 - val_acc: 0.7408\n",
            "Epoch 39/100\n",
            "46528/46528 [==============================] - 10s 220us/step - loss: 0.7005 - acc: 0.7467 - val_loss: 0.7261 - val_acc: 0.7407\n",
            "Epoch 40/100\n",
            "46528/46528 [==============================] - 10s 215us/step - loss: 0.7005 - acc: 0.7465 - val_loss: 0.7261 - val_acc: 0.7405\n",
            "\n",
            "Epoch 00040: ReduceLROnPlateau reducing learning rate to 6.400000529538374e-08.\n",
            "Epoch 41/100\n",
            "46528/46528 [==============================] - 11s 234us/step - loss: 0.7005 - acc: 0.7467 - val_loss: 0.7260 - val_acc: 0.7405\n",
            "Epoch 42/100\n",
            "46528/46528 [==============================] - 10s 219us/step - loss: 0.7005 - acc: 0.7466 - val_loss: 0.7260 - val_acc: 0.7406\n",
            "Epoch 00042: early stopping\n"
          ],
          "name": "stdout"
        }
      ]
    },
    {
      "cell_type": "code",
      "metadata": {
        "id": "-_pVVCL46GOc",
        "colab_type": "code",
        "outputId": "c8a365d4-9833-4b97-95b0-29ec1da985ae",
        "colab": {
          "base_uri": "https://localhost:8080/",
          "height": 545
        }
      },
      "source": [
        "acc = history.history['acc']\n",
        "val_acc = history.history['val_acc']\n",
        "loss = history.history['loss']\n",
        "val_loss = history.history['val_loss']\n",
        "epochs = range(1, len(acc) + 1)\n",
        "\n",
        "plt.title('Training and validation accuracy')\n",
        "plt.plot(epochs, acc, 'red', label='Training acc')\n",
        "plt.plot(epochs, val_acc, 'blue', label='Validation acc')\n",
        "plt.legend()\n",
        "\n",
        "plt.figure()\n",
        "plt.title('Training and validation loss')\n",
        "plt.plot(epochs, loss, 'red', label='Training loss')\n",
        "plt.plot(epochs, val_loss, 'blue', label='Validation loss')\n",
        "\n",
        "plt.legend()\n",
        "\n",
        "plt.show()"
      ],
      "execution_count": 96,
      "outputs": [
        {
          "output_type": "display_data",
          "data": {
            "image/png": "[encoded data removed]",
            "text/plain": [
              "<Figure size 432x288 with 1 Axes>"
            ]
          },
          "metadata": {
            "tags": []
          }
        },
        {
          "output_type": "display_data",
          "data": {
            "image/png": "[encoded data removed]",
            "text/plain": [
              "<Figure size 432x288 with 1 Axes>"
            ]
          },
          "metadata": {
            "tags": []
          }
        }
      ]
    },
    {
      "cell_type": "code",
      "metadata": {
        "id": "suEP05Ik7glR",
        "colab_type": "code",
        "colab": {}
      },
      "source": [
        "# get the predictions for the test data\n",
        "predicted_classes = model.predict_classes(test_features_flat)"
      ],
      "execution_count": 0,
      "outputs": []
    },
    {
      "cell_type": "code",
      "metadata": {
        "id": "ig2idCHo8m1J",
        "colab_type": "code",
        "colab": {}
      },
      "source": [
        "# get the indices to be plotted\n",
        "y_true = df1.iloc[:, 0]\n",
        "correct = np.nonzero(predicted_classes==y_true)[0]\n",
        "incorrect = np.nonzero(predicted_classes!=y_true)[0]"
      ],
      "execution_count": 0,
      "outputs": []
    },
    {
      "cell_type": "code",
      "metadata": {
        "id": "97jFWVI7N1YQ",
        "colab_type": "code",
        "outputId": "d08f35a8-27b1-4ec2-d6fa-c9d0e829139e",
        "colab": {
          "base_uri": "https://localhost:8080/",
          "height": 326
        }
      },
      "source": [
        "\n",
        "target_names = [\"Class {}\".format(i) for i in range(10)]\n",
        "print(classification_report(y_true, predicted_classes, target_names=target_names))"
      ],
      "execution_count": 99,
      "outputs": [
        {
          "output_type": "stream",
          "text": [
            "              precision    recall  f1-score   support\n",
            "\n",
            "     Class 0       0.65      0.69      0.67      1000\n",
            "     Class 1       0.96      0.93      0.94      1000\n",
            "     Class 2       0.62      0.56      0.59      1000\n",
            "     Class 3       0.70      0.84      0.76      1000\n",
            "     Class 4       0.62      0.67      0.64      1000\n",
            "     Class 5       0.84      0.86      0.85      1000\n",
            "     Class 6       0.47      0.37      0.42      1000\n",
            "     Class 7       0.83      0.84      0.83      1000\n",
            "     Class 8       0.87      0.85      0.86      1000\n",
            "     Class 9       0.88      0.88      0.88      1000\n",
            "\n",
            "    accuracy                           0.75     10000\n",
            "   macro avg       0.74      0.75      0.75     10000\n",
            "weighted avg       0.74      0.75      0.75     10000\n",
            "\n"
          ],
          "name": "stdout"
        }
      ]
    },
    {
      "cell_type": "markdown",
      "metadata": {
        "id": "A5TEXWaYOa9P",
        "colab_type": "text"
      },
      "source": [
        "The model lacks precision for class 6, and underperforms for class 0 in reference fo rthe rest of them.\n"
      ]
    },
    {
      "cell_type": "code",
      "metadata": {
        "id": "oWcqKqcaN7dF",
        "colab_type": "code",
        "outputId": "ede318c9-6cf1-4509-df1b-0fe81ecea161",
        "colab": {
          "base_uri": "https://localhost:8080/",
          "height": 35
        }
      },
      "source": [
        "test_features[correct].shape"
      ],
      "execution_count": 100,
      "outputs": [
        {
          "output_type": "execute_result",
          "data": {
            "text/plain": [
              "(7490, 1, 1, 512)"
            ]
          },
          "metadata": {
            "tags": []
          },
          "execution_count": 100
        }
      ]
    },
    {
      "cell_type": "code",
      "metadata": {
        "id": "MfWGjHrvQEqB",
        "colab_type": "code",
        "colab": {}
      },
      "source": [
        "\n",
        "filename = 'Image Classification(VGG16).sav'\n",
        "pickle.dump(model, open(filename, 'wb'))"
      ],
      "execution_count": 0,
      "outputs": []
    },
    {
      "cell_type": "code",
      "metadata": {
        "id": "fsnPMMY2bW19",
        "colab_type": "code",
        "colab": {}
      },
      "source": [
        ""
      ],
      "execution_count": 0,
      "outputs": []
    }
  ]
}